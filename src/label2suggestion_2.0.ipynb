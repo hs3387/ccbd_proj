{
 "cells": [
  {
   "cell_type": "code",
   "execution_count": 6,
   "metadata": {},
   "outputs": [
    {
     "name": "stdout",
     "output_type": "stream",
     "text": [
      "['Champagne', 'Beige', 'Sand', 'Burnt orange', 'Aegean']\n",
      "['Straw hat', 'Ballet flats', 'Espadrilles', 'Denim jacket', 'Woven mules', 'Ankle boots', 'Michael Kors sandals', 'Balenciaga ankle boots', 'Fendi sunglasses', 'Jacket']\n"
     ]
    }
   ],
   "source": [
    "import pandas as pd\n",
    "from itertools import combinations\n",
    "\n",
    "# Example table with dress recommendations\n",
    "xls = pd.ExcelFile('Fashion Recommendation Table.xlsx')\n",
    "df_color = pd.read_excel(xls, 'Sheet4')\n",
    "df_dress = pd.read_excel(xls, 'Sheet5')\n",
    "\n",
    "# Example list of labels  - TO BE INPUT FROM STEP 3\n",
    "labels = ['teal', 'dress'] \n",
    "\n",
    "colors = []\n",
    "dresses = []\n",
    "for item in labels:\n",
    "    for i, row in df_color.iterrows():\n",
    "        if item.lower() in row['Colour 1'].lower():\n",
    "            colors.append(row['Colour 2'])\n",
    "        \n",
    "    for i, row in df_dress.iterrows():\n",
    "        if item.lower() in row['Dress 1'].lower():\n",
    "            dresses.append(row['Dress 2'])\n",
    "\n",
    "print(colors)\n",
    "print(dresses)"
   ]
  },
  {
   "cell_type": "code",
   "execution_count": 7,
   "metadata": {},
   "outputs": [
    {
     "name": "stdout",
     "output_type": "stream",
     "text": [
      "['Champagne Straw hat', 'Champagne Ballet flats', 'Champagne Espadrilles', 'Champagne Denim jacket', 'Champagne Woven mules', 'Champagne Ankle boots', 'Champagne Michael Kors sandals', 'Champagne Balenciaga ankle boots', 'Champagne Fendi sunglasses', 'Champagne Jacket', 'Beige Straw hat', 'Beige Ballet flats', 'Beige Espadrilles', 'Beige Denim jacket', 'Beige Woven mules', 'Beige Ankle boots', 'Beige Michael Kors sandals', 'Beige Balenciaga ankle boots', 'Beige Fendi sunglasses', 'Beige Jacket', 'Sand Straw hat', 'Sand Ballet flats', 'Sand Espadrilles', 'Sand Denim jacket', 'Sand Woven mules', 'Sand Ankle boots', 'Sand Michael Kors sandals', 'Sand Balenciaga ankle boots', 'Sand Fendi sunglasses', 'Sand Jacket', 'Burnt orange Straw hat', 'Burnt orange Ballet flats', 'Burnt orange Espadrilles', 'Burnt orange Denim jacket', 'Burnt orange Woven mules', 'Burnt orange Ankle boots', 'Burnt orange Michael Kors sandals', 'Burnt orange Balenciaga ankle boots', 'Burnt orange Fendi sunglasses', 'Burnt orange Jacket', 'Aegean Straw hat', 'Aegean Ballet flats', 'Aegean Espadrilles', 'Aegean Denim jacket', 'Aegean Woven mules', 'Aegean Ankle boots', 'Aegean Michael Kors sandals', 'Aegean Balenciaga ankle boots', 'Aegean Fendi sunglasses', 'Aegean Jacket']\n"
     ]
    }
   ],
   "source": [
    "output = []\n",
    "for color in colors:\n",
    "    for dress in dresses:\n",
    "        output.append(color + ' ' + dress)\n",
    "\n",
    "print(output)"
   ]
  },
  {
   "cell_type": "code",
   "execution_count": null,
   "metadata": {},
   "outputs": [],
   "source": []
  }
 ],
 "metadata": {
  "kernelspec": {
   "display_name": "base",
   "language": "python",
   "name": "python3"
  },
  "language_info": {
   "codemirror_mode": {
    "name": "ipython",
    "version": 3
   },
   "file_extension": ".py",
   "mimetype": "text/x-python",
   "name": "python",
   "nbconvert_exporter": "python",
   "pygments_lexer": "ipython3",
   "version": "3.9.1"
  },
  "orig_nbformat": 4
 },
 "nbformat": 4,
 "nbformat_minor": 2
}
