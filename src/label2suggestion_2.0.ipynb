{
 "cells": [
  {
   "cell_type": "code",
   "execution_count": 6,
   "metadata": {},
   "outputs": [
    {
     "name": "stdout",
     "output_type": "stream",
     "text": [
      "['Mahogany', 'Corduroy pants']\n"
     ]
    }
   ],
   "source": [
    "import pandas as pd\n",
    "from itertools import combinations\n",
    "\n",
    "# Example table with dress recommendations\n",
    "xls = pd.ExcelFile('Fashion Recommendation Table.xlsx')\n",
    "df_color = pd.read_excel(xls, 'Sheet4')\n",
    "df_dress = pd.read_excel(xls, 'Sheet5')\n",
    "\n",
    "# Example list of labels  - TO BE INPUT FROM STEP 3\n",
    "labels = ['brown', 'sweater'] \n",
    "\n",
    "res = []\n",
    "for item in labels:\n",
    "    for i, row in df_color.iterrows():\n",
    "        if item in row['Colour 1']:\n",
    "            res.append(row['Colour 2'])\n",
    "        \n",
    "    for i, row in df_dress.iterrows():\n",
    "        if item in row['Dress 1']:\n",
    "            res.append(row['Dress 2'])\n",
    "\n",
    "print(res)"
   ]
  },
  {
   "cell_type": "code",
   "execution_count": null,
   "metadata": {},
   "outputs": [],
   "source": []
  }
 ],
 "metadata": {
  "kernelspec": {
   "display_name": "base",
   "language": "python",
   "name": "python3"
  },
  "language_info": {
   "codemirror_mode": {
    "name": "ipython",
    "version": 3
   },
   "file_extension": ".py",
   "mimetype": "text/x-python",
   "name": "python",
   "nbconvert_exporter": "python",
   "pygments_lexer": "ipython3",
   "version": "3.9.1"
  },
  "orig_nbformat": 4
 },
 "nbformat": 4,
 "nbformat_minor": 2
}
